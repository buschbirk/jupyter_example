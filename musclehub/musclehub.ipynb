{
 "cells": [
  {
   "cell_type": "markdown",
   "metadata": {},
   "source": [
    "# Capstone Project 1: MuscleHub AB Test"
   ]
  },
  {
   "cell_type": "markdown",
   "metadata": {},
   "source": [
    "## Step 1: Getting started with SQL"
   ]
  },
  {
   "cell_type": "markdown",
   "metadata": {},
   "source": [
    "Janet keeps her data in a SQL database. From the SQL_client.py file we will import the method `sql_query`, which returns SQL queries as Pandas DataFrames. "
   ]
  },
  {
   "cell_type": "code",
   "execution_count": 29,
   "metadata": {},
   "outputs": [],
   "source": [
    "from SQL_client import sql_query\n",
    "import pandas as pd"
   ]
  },
  {
   "cell_type": "code",
   "execution_count": 32,
   "metadata": {},
   "outputs": [
    {
     "data": {
      "text/html": [
       "<div>\n",
       "<style>\n",
       "    .dataframe thead tr:only-child th {\n",
       "        text-align: right;\n",
       "    }\n",
       "\n",
       "    .dataframe thead th {\n",
       "        text-align: left;\n",
       "    }\n",
       "\n",
       "    .dataframe tbody tr th {\n",
       "        vertical-align: top;\n",
       "    }\n",
       "</style>\n",
       "<table border=\"1\" class=\"dataframe\">\n",
       "  <thead>\n",
       "    <tr style=\"text-align: right;\">\n",
       "      <th></th>\n",
       "      <th>index</th>\n",
       "      <th>first_name</th>\n",
       "      <th>last_name</th>\n",
       "      <th>email</th>\n",
       "      <th>gender</th>\n",
       "      <th>visit_date</th>\n",
       "    </tr>\n",
       "  </thead>\n",
       "  <tbody>\n",
       "    <tr>\n",
       "      <th>0</th>\n",
       "      <td>0</td>\n",
       "      <td>Karen</td>\n",
       "      <td>Manning</td>\n",
       "      <td>Karen.Manning@gmail.com</td>\n",
       "      <td>female</td>\n",
       "      <td>5-1-17</td>\n",
       "    </tr>\n",
       "    <tr>\n",
       "      <th>1</th>\n",
       "      <td>1</td>\n",
       "      <td>Annette</td>\n",
       "      <td>Boone</td>\n",
       "      <td>AB9982@gmail.com</td>\n",
       "      <td>female</td>\n",
       "      <td>5-1-17</td>\n",
       "    </tr>\n",
       "    <tr>\n",
       "      <th>2</th>\n",
       "      <td>2</td>\n",
       "      <td>Salvador</td>\n",
       "      <td>Merritt</td>\n",
       "      <td>SalvadorMerritt12@outlook.com</td>\n",
       "      <td>male</td>\n",
       "      <td>5-1-17</td>\n",
       "    </tr>\n",
       "    <tr>\n",
       "      <th>3</th>\n",
       "      <td>3</td>\n",
       "      <td>Martha</td>\n",
       "      <td>Maxwell</td>\n",
       "      <td>Martha.Maxwell@gmail.com</td>\n",
       "      <td>female</td>\n",
       "      <td>5-1-17</td>\n",
       "    </tr>\n",
       "    <tr>\n",
       "      <th>4</th>\n",
       "      <td>4</td>\n",
       "      <td>Andre</td>\n",
       "      <td>Mayer</td>\n",
       "      <td>AndreMayer90@gmail.com</td>\n",
       "      <td>male</td>\n",
       "      <td>5-1-17</td>\n",
       "    </tr>\n",
       "  </tbody>\n",
       "</table>\n",
       "</div>"
      ],
      "text/plain": [
       "   index first_name last_name                          email  gender  \\\n",
       "0      0      Karen   Manning        Karen.Manning@gmail.com  female   \n",
       "1      1    Annette     Boone               AB9982@gmail.com  female   \n",
       "2      2   Salvador   Merritt  SalvadorMerritt12@outlook.com    male   \n",
       "3      3     Martha   Maxwell       Martha.Maxwell@gmail.com  female   \n",
       "4      4      Andre     Mayer         AndreMayer90@gmail.com    male   \n",
       "\n",
       "  visit_date  \n",
       "0     5-1-17  \n",
       "1     5-1-17  \n",
       "2     5-1-17  \n",
       "3     5-1-17  \n",
       "4     5-1-17  "
      ]
     },
     "execution_count": 32,
     "metadata": {},
     "output_type": "execute_result"
    }
   ],
   "source": [
    "# Here's an example of a query that displays some data from the visits table\n",
    "df = sql_query('''\n",
    "SELECT *\n",
    "FROM visits\n",
    "LIMIT 5\n",
    "''')\n",
    "\n",
    "df"
   ]
  },
  {
   "cell_type": "markdown",
   "metadata": {},
   "source": [
    "## Step 2: The dataset"
   ]
  },
  {
   "cell_type": "markdown",
   "metadata": {},
   "source": [
    "Janet of MuscleHub has a SQLite database, which contains several tables that will be helpful in this investigation:\n",
    "- `visits` contains information about potential gym customers who have visited MuscleHub\n",
    "- `fitness_tests` contains information about potential customers in \"Group A\", who were given a fitness test\n",
    "- `applications` contains information about any potential customers (both \"Group A\" and \"Group B\") who filled out an application.  Not everyone in `visits` will have filled out an application.\n",
    "- `purchases` contains information about customers who purchased a membership to MuscleHub.\n",
    "\n",
    "Below, we will examine each table."
   ]
  },
  {
   "cell_type": "code",
   "execution_count": 35,
   "metadata": {},
   "outputs": [
    {
     "data": {
      "text/html": [
       "<div>\n",
       "<style>\n",
       "    .dataframe thead tr:only-child th {\n",
       "        text-align: right;\n",
       "    }\n",
       "\n",
       "    .dataframe thead th {\n",
       "        text-align: left;\n",
       "    }\n",
       "\n",
       "    .dataframe tbody tr th {\n",
       "        vertical-align: top;\n",
       "    }\n",
       "</style>\n",
       "<table border=\"1\" class=\"dataframe\">\n",
       "  <thead>\n",
       "    <tr style=\"text-align: right;\">\n",
       "      <th></th>\n",
       "      <th>index</th>\n",
       "      <th>first_name</th>\n",
       "      <th>last_name</th>\n",
       "      <th>email</th>\n",
       "      <th>gender</th>\n",
       "      <th>visit_date</th>\n",
       "    </tr>\n",
       "  </thead>\n",
       "  <tbody>\n",
       "    <tr>\n",
       "      <th>0</th>\n",
       "      <td>0</td>\n",
       "      <td>Karen</td>\n",
       "      <td>Manning</td>\n",
       "      <td>Karen.Manning@gmail.com</td>\n",
       "      <td>female</td>\n",
       "      <td>5-1-17</td>\n",
       "    </tr>\n",
       "    <tr>\n",
       "      <th>1</th>\n",
       "      <td>1</td>\n",
       "      <td>Annette</td>\n",
       "      <td>Boone</td>\n",
       "      <td>AB9982@gmail.com</td>\n",
       "      <td>female</td>\n",
       "      <td>5-1-17</td>\n",
       "    </tr>\n",
       "    <tr>\n",
       "      <th>2</th>\n",
       "      <td>2</td>\n",
       "      <td>Salvador</td>\n",
       "      <td>Merritt</td>\n",
       "      <td>SalvadorMerritt12@outlook.com</td>\n",
       "      <td>male</td>\n",
       "      <td>5-1-17</td>\n",
       "    </tr>\n",
       "    <tr>\n",
       "      <th>3</th>\n",
       "      <td>3</td>\n",
       "      <td>Martha</td>\n",
       "      <td>Maxwell</td>\n",
       "      <td>Martha.Maxwell@gmail.com</td>\n",
       "      <td>female</td>\n",
       "      <td>5-1-17</td>\n",
       "    </tr>\n",
       "    <tr>\n",
       "      <th>4</th>\n",
       "      <td>4</td>\n",
       "      <td>Andre</td>\n",
       "      <td>Mayer</td>\n",
       "      <td>AndreMayer90@gmail.com</td>\n",
       "      <td>male</td>\n",
       "      <td>5-1-17</td>\n",
       "    </tr>\n",
       "  </tbody>\n",
       "</table>\n",
       "</div>"
      ],
      "text/plain": [
       "   index first_name last_name                          email  gender  \\\n",
       "0      0      Karen   Manning        Karen.Manning@gmail.com  female   \n",
       "1      1    Annette     Boone               AB9982@gmail.com  female   \n",
       "2      2   Salvador   Merritt  SalvadorMerritt12@outlook.com    male   \n",
       "3      3     Martha   Maxwell       Martha.Maxwell@gmail.com  female   \n",
       "4      4      Andre     Mayer         AndreMayer90@gmail.com    male   \n",
       "\n",
       "  visit_date  \n",
       "0     5-1-17  \n",
       "1     5-1-17  \n",
       "2     5-1-17  \n",
       "3     5-1-17  \n",
       "4     5-1-17  "
      ]
     },
     "execution_count": 35,
     "metadata": {},
     "output_type": "execute_result"
    }
   ],
   "source": [
    "# Visits table\n",
    "sql_query(\"\"\"\n",
    "SELECT * \n",
    "FROM visits\n",
    "LIMIT 5\n",
    "\"\"\")"
   ]
  },
  {
   "cell_type": "code",
   "execution_count": 36,
   "metadata": {},
   "outputs": [
    {
     "data": {
      "text/html": [
       "<div>\n",
       "<style>\n",
       "    .dataframe thead tr:only-child th {\n",
       "        text-align: right;\n",
       "    }\n",
       "\n",
       "    .dataframe thead th {\n",
       "        text-align: left;\n",
       "    }\n",
       "\n",
       "    .dataframe tbody tr th {\n",
       "        vertical-align: top;\n",
       "    }\n",
       "</style>\n",
       "<table border=\"1\" class=\"dataframe\">\n",
       "  <thead>\n",
       "    <tr style=\"text-align: right;\">\n",
       "      <th></th>\n",
       "      <th>index</th>\n",
       "      <th>first_name</th>\n",
       "      <th>last_name</th>\n",
       "      <th>email</th>\n",
       "      <th>gender</th>\n",
       "      <th>fitness_test_date</th>\n",
       "    </tr>\n",
       "  </thead>\n",
       "  <tbody>\n",
       "    <tr>\n",
       "      <th>0</th>\n",
       "      <td>0</td>\n",
       "      <td>Kim</td>\n",
       "      <td>Walter</td>\n",
       "      <td>KimWalter58@gmail.com</td>\n",
       "      <td>female</td>\n",
       "      <td>2017-07-03</td>\n",
       "    </tr>\n",
       "    <tr>\n",
       "      <th>1</th>\n",
       "      <td>1</td>\n",
       "      <td>Tom</td>\n",
       "      <td>Webster</td>\n",
       "      <td>TW3857@gmail.com</td>\n",
       "      <td>male</td>\n",
       "      <td>2017-07-02</td>\n",
       "    </tr>\n",
       "    <tr>\n",
       "      <th>2</th>\n",
       "      <td>2</td>\n",
       "      <td>Marcus</td>\n",
       "      <td>Bauer</td>\n",
       "      <td>Marcus.Bauer@gmail.com</td>\n",
       "      <td>male</td>\n",
       "      <td>2017-07-01</td>\n",
       "    </tr>\n",
       "    <tr>\n",
       "      <th>3</th>\n",
       "      <td>3</td>\n",
       "      <td>Roberta</td>\n",
       "      <td>Best</td>\n",
       "      <td>RB6305@hotmail.com</td>\n",
       "      <td>female</td>\n",
       "      <td>2017-07-02</td>\n",
       "    </tr>\n",
       "    <tr>\n",
       "      <th>4</th>\n",
       "      <td>4</td>\n",
       "      <td>Carrie</td>\n",
       "      <td>Francis</td>\n",
       "      <td>CF1896@hotmail.com</td>\n",
       "      <td>female</td>\n",
       "      <td>2017-07-05</td>\n",
       "    </tr>\n",
       "  </tbody>\n",
       "</table>\n",
       "</div>"
      ],
      "text/plain": [
       "   index first_name last_name                   email  gender  \\\n",
       "0      0        Kim    Walter   KimWalter58@gmail.com  female   \n",
       "1      1        Tom   Webster        TW3857@gmail.com    male   \n",
       "2      2     Marcus     Bauer  Marcus.Bauer@gmail.com    male   \n",
       "3      3    Roberta      Best      RB6305@hotmail.com  female   \n",
       "4      4     Carrie   Francis      CF1896@hotmail.com  female   \n",
       "\n",
       "  fitness_test_date  \n",
       "0        2017-07-03  \n",
       "1        2017-07-02  \n",
       "2        2017-07-01  \n",
       "3        2017-07-02  \n",
       "4        2017-07-05  "
      ]
     },
     "execution_count": 36,
     "metadata": {},
     "output_type": "execute_result"
    }
   ],
   "source": [
    "# Fitness_tests table\n",
    "sql_query(\"\"\"\n",
    "SELECT * \n",
    "FROM fitness_tests\n",
    "LIMIT 5\n",
    "\"\"\")"
   ]
  },
  {
   "cell_type": "code",
   "execution_count": 37,
   "metadata": {},
   "outputs": [
    {
     "data": {
      "text/html": [
       "<div>\n",
       "<style>\n",
       "    .dataframe thead tr:only-child th {\n",
       "        text-align: right;\n",
       "    }\n",
       "\n",
       "    .dataframe thead th {\n",
       "        text-align: left;\n",
       "    }\n",
       "\n",
       "    .dataframe tbody tr th {\n",
       "        vertical-align: top;\n",
       "    }\n",
       "</style>\n",
       "<table border=\"1\" class=\"dataframe\">\n",
       "  <thead>\n",
       "    <tr style=\"text-align: right;\">\n",
       "      <th></th>\n",
       "      <th>index</th>\n",
       "      <th>first_name</th>\n",
       "      <th>last_name</th>\n",
       "      <th>email</th>\n",
       "      <th>gender</th>\n",
       "      <th>application_date</th>\n",
       "    </tr>\n",
       "  </thead>\n",
       "  <tbody>\n",
       "    <tr>\n",
       "      <th>0</th>\n",
       "      <td>0</td>\n",
       "      <td>Roy</td>\n",
       "      <td>Abbott</td>\n",
       "      <td>RoyAbbott32@gmail.com</td>\n",
       "      <td>male</td>\n",
       "      <td>2017-08-12</td>\n",
       "    </tr>\n",
       "    <tr>\n",
       "      <th>1</th>\n",
       "      <td>1</td>\n",
       "      <td>Agnes</td>\n",
       "      <td>Acevedo</td>\n",
       "      <td>AgnesAcevedo1@gmail.com</td>\n",
       "      <td>female</td>\n",
       "      <td>2017-09-29</td>\n",
       "    </tr>\n",
       "    <tr>\n",
       "      <th>2</th>\n",
       "      <td>2</td>\n",
       "      <td>Roberta</td>\n",
       "      <td>Acevedo</td>\n",
       "      <td>RA8063@gmail.com</td>\n",
       "      <td>female</td>\n",
       "      <td>2017-09-15</td>\n",
       "    </tr>\n",
       "    <tr>\n",
       "      <th>3</th>\n",
       "      <td>3</td>\n",
       "      <td>Darren</td>\n",
       "      <td>Acosta</td>\n",
       "      <td>DAcosta1996@hotmail.com</td>\n",
       "      <td>male</td>\n",
       "      <td>2017-07-26</td>\n",
       "    </tr>\n",
       "    <tr>\n",
       "      <th>4</th>\n",
       "      <td>4</td>\n",
       "      <td>Vernon</td>\n",
       "      <td>Acosta</td>\n",
       "      <td>VAcosta1975@gmail.com</td>\n",
       "      <td>male</td>\n",
       "      <td>2017-07-14</td>\n",
       "    </tr>\n",
       "  </tbody>\n",
       "</table>\n",
       "</div>"
      ],
      "text/plain": [
       "   index first_name last_name                    email  gender  \\\n",
       "0      0        Roy    Abbott    RoyAbbott32@gmail.com    male   \n",
       "1      1      Agnes   Acevedo  AgnesAcevedo1@gmail.com  female   \n",
       "2      2    Roberta   Acevedo         RA8063@gmail.com  female   \n",
       "3      3     Darren    Acosta  DAcosta1996@hotmail.com    male   \n",
       "4      4     Vernon    Acosta    VAcosta1975@gmail.com    male   \n",
       "\n",
       "  application_date  \n",
       "0       2017-08-12  \n",
       "1       2017-09-29  \n",
       "2       2017-09-15  \n",
       "3       2017-07-26  \n",
       "4       2017-07-14  "
      ]
     },
     "execution_count": 37,
     "metadata": {},
     "output_type": "execute_result"
    }
   ],
   "source": [
    "# Applications table\n",
    "sql_query(\"\"\"\n",
    "SELECT * \n",
    "FROM applications\n",
    "LIMIT 5\n",
    "\"\"\")"
   ]
  },
  {
   "cell_type": "code",
   "execution_count": 38,
   "metadata": {},
   "outputs": [
    {
     "data": {
      "text/html": [
       "<div>\n",
       "<style>\n",
       "    .dataframe thead tr:only-child th {\n",
       "        text-align: right;\n",
       "    }\n",
       "\n",
       "    .dataframe thead th {\n",
       "        text-align: left;\n",
       "    }\n",
       "\n",
       "    .dataframe tbody tr th {\n",
       "        vertical-align: top;\n",
       "    }\n",
       "</style>\n",
       "<table border=\"1\" class=\"dataframe\">\n",
       "  <thead>\n",
       "    <tr style=\"text-align: right;\">\n",
       "      <th></th>\n",
       "      <th>index</th>\n",
       "      <th>first_name</th>\n",
       "      <th>last_name</th>\n",
       "      <th>email</th>\n",
       "      <th>gender</th>\n",
       "      <th>purchase_date</th>\n",
       "    </tr>\n",
       "  </thead>\n",
       "  <tbody>\n",
       "    <tr>\n",
       "      <th>0</th>\n",
       "      <td>0</td>\n",
       "      <td>Roy</td>\n",
       "      <td>Abbott</td>\n",
       "      <td>RoyAbbott32@gmail.com</td>\n",
       "      <td>male</td>\n",
       "      <td>2017-08-18</td>\n",
       "    </tr>\n",
       "    <tr>\n",
       "      <th>1</th>\n",
       "      <td>1</td>\n",
       "      <td>Roberta</td>\n",
       "      <td>Acevedo</td>\n",
       "      <td>RA8063@gmail.com</td>\n",
       "      <td>female</td>\n",
       "      <td>2017-09-16</td>\n",
       "    </tr>\n",
       "    <tr>\n",
       "      <th>2</th>\n",
       "      <td>2</td>\n",
       "      <td>Vernon</td>\n",
       "      <td>Acosta</td>\n",
       "      <td>VAcosta1975@gmail.com</td>\n",
       "      <td>male</td>\n",
       "      <td>2017-07-20</td>\n",
       "    </tr>\n",
       "    <tr>\n",
       "      <th>3</th>\n",
       "      <td>3</td>\n",
       "      <td>Darren</td>\n",
       "      <td>Acosta</td>\n",
       "      <td>DAcosta1996@hotmail.com</td>\n",
       "      <td>male</td>\n",
       "      <td>2017-07-27</td>\n",
       "    </tr>\n",
       "    <tr>\n",
       "      <th>4</th>\n",
       "      <td>4</td>\n",
       "      <td>Dawn</td>\n",
       "      <td>Adkins</td>\n",
       "      <td>Dawn.Adkins@gmail.com</td>\n",
       "      <td>female</td>\n",
       "      <td>2017-08-24</td>\n",
       "    </tr>\n",
       "  </tbody>\n",
       "</table>\n",
       "</div>"
      ],
      "text/plain": [
       "   index first_name last_name                    email  gender purchase_date\n",
       "0      0        Roy    Abbott    RoyAbbott32@gmail.com    male    2017-08-18\n",
       "1      1    Roberta   Acevedo         RA8063@gmail.com  female    2017-09-16\n",
       "2      2     Vernon    Acosta    VAcosta1975@gmail.com    male    2017-07-20\n",
       "3      3     Darren    Acosta  DAcosta1996@hotmail.com    male    2017-07-27\n",
       "4      4       Dawn    Adkins    Dawn.Adkins@gmail.com  female    2017-08-24"
      ]
     },
     "execution_count": 38,
     "metadata": {},
     "output_type": "execute_result"
    }
   ],
   "source": [
    "# Purchases table\n",
    "sql_query(\"\"\"\n",
    "SELECT *\n",
    "FROM purchases\n",
    "LIMIT 5\n",
    "\"\"\")"
   ]
  },
  {
   "cell_type": "markdown",
   "metadata": {},
   "source": [
    "We'd like to define a giant DataFrame containing all of this data.  We'll need to write a query that does the following things:\n",
    "\n",
    "1. Not all visits in  `visits` occurred during the A/B test.  We'll only want to pull data where `visit_date` is on or after `7-1-17`.\n",
    "\n",
    "2. We'll want to perform a series of `LEFT JOIN` commands to combine the four tables that we care about.  We'll need to perform the joins on `first_name`, `last_name`, and `email`.  Pull the following columns:\n",
    "\n",
    "\n",
    "- `visits.first_name`\n",
    "- `visits.last_name`\n",
    "- `visits.gender`\n",
    "- `visits.email`\n",
    "- `visits.visit_date`\n",
    "- `fitness_tests.fitness_test_date`\n",
    "- `applications.application_date`\n",
    "- `purchases.purchase_date`\n",
    "\n",
    "Save the result of this query to a variable called `df`.\n",
    "\n",
    "Hint: your result should have 5004 rows.  Does it?"
   ]
  },
  {
   "cell_type": "code",
   "execution_count": 46,
   "metadata": {},
   "outputs": [
    {
     "name": "stdout",
     "output_type": "stream",
     "text": [
      "The dataFrame has 5006 rows\n",
      "\n",
      "     first_name last_name  gender                   email visit_date  \\\n",
      "1000        Kim    Walter  female   KimWalter58@gmail.com     7-1-17   \n",
      "1001        Tom   Webster    male        TW3857@gmail.com     7-1-17   \n",
      "1002     Edward     Bowen    male  Edward.Bowen@gmail.com     7-1-17   \n",
      "1003     Marcus     Bauer    male  Marcus.Bauer@gmail.com     7-1-17   \n",
      "1004    Roberta      Best  female      RB6305@hotmail.com     7-1-17   \n",
      "\n",
      "     fitness_test_date application_date purchase_date visit_date_conv  \n",
      "1000        2017-07-03             None          None      2017-07-01  \n",
      "1001        2017-07-02             None          None      2017-07-01  \n",
      "1002              None       2017-07-04    2017-07-04      2017-07-01  \n",
      "1003        2017-07-01       2017-07-03    2017-07-05      2017-07-01  \n",
      "1004        2017-07-02             None          None      2017-07-01  \n"
     ]
    }
   ],
   "source": [
    "df = sql_query(\"\"\"\n",
    "SELECT v.first_name, v.last_name, v.gender, v.email, v.visit_date, \n",
    "f.fitness_test_date, a.application_date, p.purchase_date\n",
    "FROM visits as v\n",
    "LEFT JOIN fitness_tests as f ON v.email = f.email\n",
    "LEFT JOIN applications as a ON v.email = a.email\n",
    "LEFT JOIN purchases as p ON v.email = p.email\n",
    "\"\"\")\n",
    "\n",
    "# Use Pandas to filter data to visits after 7-1-17\n",
    "df['visit_date_conv'] = pd.to_datetime(df['visit_date']) \n",
    "df_filtered = df[df.visit_date_conv >= \"2017-07-01\"]\n",
    "\n",
    "print(\"The dataFrame has \" +str(len(df_filtered)) +\" rows\")\n",
    "print(\"\")\n",
    "print(df_filtered.head())\n",
    "\n",
    "# since the filter seems to be succesful, df is updated with the filtered values\n",
    "df = df_filtered"
   ]
  },
  {
   "cell_type": "markdown",
   "metadata": {},
   "source": [
    "## Step 3: Investigate the A and B groups"
   ]
  },
  {
   "cell_type": "code",
   "execution_count": 48,
   "metadata": {
    "collapsed": true
   },
   "outputs": [],
   "source": [
    "from matplotlib import pyplot as plt\n",
    "plt.style.use('fivethirtyeight')"
   ]
  },
  {
   "cell_type": "markdown",
   "metadata": {},
   "source": [
    "We're going to add some columns to `df` to help us with our analysis.\n",
    "\n",
    "We'll add a column called `ab_test_group`.  It should be `A` if `fitness_test_date` is not `None`, and `B` if `fitness_test_date` is `None`."
   ]
  },
  {
   "cell_type": "code",
   "execution_count": 50,
   "metadata": {
    "scrolled": true
   },
   "outputs": [
    {
     "name": "stdout",
     "output_type": "stream",
     "text": [
      "     first_name last_name  gender                   email visit_date  \\\n",
      "1000        Kim    Walter  female   KimWalter58@gmail.com     7-1-17   \n",
      "1001        Tom   Webster    male        TW3857@gmail.com     7-1-17   \n",
      "1002     Edward     Bowen    male  Edward.Bowen@gmail.com     7-1-17   \n",
      "1003     Marcus     Bauer    male  Marcus.Bauer@gmail.com     7-1-17   \n",
      "1004    Roberta      Best  female      RB6305@hotmail.com     7-1-17   \n",
      "\n",
      "     fitness_test_date application_date purchase_date visit_date_conv  \\\n",
      "1000        2017-07-03             None          None      2017-07-01   \n",
      "1001        2017-07-02             None          None      2017-07-01   \n",
      "1002              None       2017-07-04    2017-07-04      2017-07-01   \n",
      "1003        2017-07-01       2017-07-03    2017-07-05      2017-07-01   \n",
      "1004        2017-07-02             None          None      2017-07-01   \n",
      "\n",
      "     ab_test_group  \n",
      "1000             A  \n",
      "1001             A  \n",
      "1002             B  \n",
      "1003             A  \n",
      "1004             A  \n"
     ]
    }
   ],
   "source": [
    "df['ab_test_group'] = df.apply((lambda row: 'A' if row.fitness_test_date != None else 'B'), axis=1)\n",
    "print(df.head())\n"
   ]
  },
  {
   "cell_type": "markdown",
   "metadata": {},
   "source": [
    "We'll check that Janet split her visitors such that about half are in A and half are in B.\n",
    "\n",
    "We'll start by using `groupby` to count how many users are in each `ab_test_group` and save the results to `ab_counts`."
   ]
  },
  {
   "cell_type": "code",
   "execution_count": 51,
   "metadata": {},
   "outputs": [
    {
     "name": "stdout",
     "output_type": "stream",
     "text": [
      "  ab_test_group  users\n",
      "0             A   2509\n",
      "1             B   2497\n"
     ]
    }
   ],
   "source": [
    "ab_counts = df.groupby('ab_test_group').email.count().reset_index()\n",
    "ab_counts.rename(columns={\"email\":\"users\"}, inplace=True)\n",
    "print(ab_counts)"
   ]
  },
  {
   "cell_type": "markdown",
   "metadata": {},
   "source": [
    "We'll want to include this information in our presentation.  We'll create a pie cart using `plt.pie`."
   ]
  },
  {
   "cell_type": "code",
   "execution_count": 13,
   "metadata": {},
   "outputs": [
    {
     "data": {
      "image/png": "[encoded data removed]",
      "text/plain": [
       "<matplotlib.figure.Figure at 0x11cfa2c3a90>"
      ]
     },
     "metadata": {},
     "output_type": "display_data"
    }
   ],
   "source": [
    "plt.figure(figsize=(8,8))\n",
    "piedata= ab_counts.users.values\n",
    "plt.pie(ab_counts.users.values, autopct='%0.1f%%')\n",
    "plt.axis('equal')\n",
    "plt.legend(['A: ' +str(piedata[0]) +' visitors' , 'B: ' +str(piedata[1]) +' visitors'])\n",
    "plt.title('A/B test group population')\n",
    "plt.savefig('ab_test_pie_chart_v2.png')\n",
    "plt.show()"
   ]
  },
  {
   "cell_type": "markdown",
   "metadata": {},
   "source": [
    "## Step 4: Who picks up an application?"
   ]
  },
  {
   "cell_type": "markdown",
   "metadata": {},
   "source": [
    "The sign-up process for MuscleHub has several steps:\n",
    "1. Take a fitness test with a personal trainer (only Group A)\n",
    "2. Fill out an application for the gym\n",
    "3. Send in a payment for their first month's membership\n",
    "\n",
    "We'll examine how many people make it to Step 2, filling out an application.\n",
    "\n",
    "We'll create a new column in `df` called `is_application` which is `Application` if `application_date` is not `None` and `No Application` otherwise."
   ]
  },
  {
   "cell_type": "code",
   "execution_count": 54,
   "metadata": {},
   "outputs": [
    {
     "name": "stdout",
     "output_type": "stream",
     "text": [
      "     first_name last_name  gender                   email visit_date  \\\n",
      "1000        Kim    Walter  female   KimWalter58@gmail.com     7-1-17   \n",
      "1001        Tom   Webster    male        TW3857@gmail.com     7-1-17   \n",
      "1002     Edward     Bowen    male  Edward.Bowen@gmail.com     7-1-17   \n",
      "1003     Marcus     Bauer    male  Marcus.Bauer@gmail.com     7-1-17   \n",
      "1004    Roberta      Best  female      RB6305@hotmail.com     7-1-17   \n",
      "\n",
      "     fitness_test_date application_date purchase_date visit_date_conv  \\\n",
      "1000        2017-07-03             None          None      2017-07-01   \n",
      "1001        2017-07-02             None          None      2017-07-01   \n",
      "1002              None       2017-07-04    2017-07-04      2017-07-01   \n",
      "1003        2017-07-01       2017-07-03    2017-07-05      2017-07-01   \n",
      "1004        2017-07-02             None          None      2017-07-01   \n",
      "\n",
      "     ab_test_group  is_application  \n",
      "1000             A  No Application  \n",
      "1001             A  No Application  \n",
      "1002             B     Application  \n",
      "1003             A     Application  \n",
      "1004             A  No Application  \n"
     ]
    }
   ],
   "source": [
    "df['is_application'] = df.apply((lambda row: \"Application\" if row.application_date != None else \"No Application\"), axis=1)\n",
    "print(df.head())"
   ]
  },
  {
   "cell_type": "markdown",
   "metadata": {},
   "source": [
    "Now, using `groupby`, we'll count how many people from Group A and Group B either do or don't pick up an application."
   ]
  },
  {
   "cell_type": "code",
   "execution_count": 55,
   "metadata": {},
   "outputs": [
    {
     "name": "stdout",
     "output_type": "stream",
     "text": [
      "  ab_test_group  is_application  email\n",
      "0             A     Application    250\n",
      "1             A  No Application   2259\n",
      "2             B     Application    325\n",
      "3             B  No Application   2172\n"
     ]
    }
   ],
   "source": [
    "app_counts = df.groupby(['ab_test_group', 'is_application']).email.count().reset_index()\n",
    "print(app_counts)"
   ]
  },
  {
   "cell_type": "markdown",
   "metadata": {},
   "source": [
    "We're going to calculate the percent of people in each group who complete an application.  It's going to be much easier to do this if we pivot `app_counts` such that:\n",
    "- The `index` is `ab_test_group`\n",
    "- The `columns` are `is_application`\n",
    "We'll save this pivot to the variable `app_pivot`."
   ]
  },
  {
   "cell_type": "code",
   "execution_count": 56,
   "metadata": {},
   "outputs": [
    {
     "name": "stdout",
     "output_type": "stream",
     "text": [
      "is_application ab_test_group  Application  No Application\n",
      "0                          A          250            2259\n",
      "1                          B          325            2172\n"
     ]
    }
   ],
   "source": [
    "app_pivot = app_counts.pivot(columns='is_application', index='ab_test_group', values='email').reset_index()\n",
    "print(app_pivot)"
   ]
  },
  {
   "cell_type": "markdown",
   "metadata": {},
   "source": [
    "The new column `Total` is the sum of `Application` and `No Application`."
   ]
  },
  {
   "cell_type": "code",
   "execution_count": 57,
   "metadata": {},
   "outputs": [
    {
     "name": "stdout",
     "output_type": "stream",
     "text": [
      "is_application ab_test_group  Application  No Application  Total\n",
      "0                          A          250            2259   2509\n",
      "1                          B          325            2172   2497\n"
     ]
    }
   ],
   "source": [
    "app_pivot['Total'] = app_pivot['Application'] + app_pivot['No Application']\n",
    "print(app_pivot)"
   ]
  },
  {
   "cell_type": "markdown",
   "metadata": {},
   "source": [
    "We'll also add another column called `Percent with Application`."
   ]
  },
  {
   "cell_type": "code",
   "execution_count": 59,
   "metadata": {},
   "outputs": [
    {
     "name": "stdout",
     "output_type": "stream",
     "text": [
      "is_application ab_test_group  Application  No Application  Total  \\\n",
      "0                          A          250            2259   2509   \n",
      "1                          B          325            2172   2497   \n",
      "\n",
      "is_application  Percent with Application  \n",
      "0                              11.066844  \n",
      "1                              14.963168  \n"
     ]
    }
   ],
   "source": [
    "app_pivot['Percent with Application'] = 100 * app_pivot['Application'] / app_pivot['No Application']\n",
    "print(app_pivot)"
   ]
  },
  {
   "cell_type": "markdown",
   "metadata": {},
   "source": [
    "More people from Group B turned in an application.\n",
    "\n",
    "We need to know if this difference is statistically significant."
   ]
  },
  {
   "cell_type": "code",
   "execution_count": 71,
   "metadata": {},
   "outputs": [
    {
     "name": "stdout",
     "output_type": "stream",
     "text": [
      "P-value is 0.0029508491727\n",
      " \n",
      "As this p-value is < 0.05 we can reject the zero hypothesis \n",
      "and state that there is a significant difference \n",
      "in the percentage of users who filed an application in the two tests.\n",
      "\n"
     ]
    }
   ],
   "source": [
    "\"\"\"\n",
    "A chi-squared will be applicable, as we are testing the significance of\n",
    "differences in categorical values of a 'full' population.\n",
    "\n",
    "We let the zero-hypothesis state that there is no significant difference in the \n",
    "application % of either test\n",
    "\n",
    "We set the significance level at 95 %\n",
    "\n",
    "\"\"\"\n",
    "\n",
    "from scipy.stats import chi2_contingency\n",
    "\n",
    "# Contingency table\n",
    "# Test      Total  |  Applicants\n",
    "# --------------------------\n",
    "# A      | 2509    |  250\n",
    "# B      | 2497    |  325\n",
    "\n",
    "test_values = [[2509, 250],[2497,325]]\n",
    "\n",
    "chi2,pval,dof,expected = chi2_contingency(test_values)\n",
    "\n",
    "print(\"P-value is \" +str(pval)) # = 0.0029\n",
    "\n",
    "print(\"\"\" \n",
    "As this p-value is < 0.05 we can reject the zero hypothesis \n",
    "and state that there is a significant difference \n",
    "in the percentage of users who filed an application in the two tests.\n",
    "\"\"\")"
   ]
  },
  {
   "cell_type": "markdown",
   "metadata": {},
   "source": [
    "## Step 5: Who purchases a membership?"
   ]
  },
  {
   "cell_type": "markdown",
   "metadata": {},
   "source": [
    "Of those who picked up an application, how many purchased a membership?\n",
    "\n",
    "We'll begin by adding a column to `df` called `is_member` which is `Member` if `purchase_date` is not `None`, and `Not Member` otherwise."
   ]
  },
  {
   "cell_type": "code",
   "execution_count": 67,
   "metadata": {},
   "outputs": [
    {
     "name": "stdout",
     "output_type": "stream",
     "text": [
      "     first_name last_name  gender                   email visit_date  \\\n",
      "1000        Kim    Walter  female   KimWalter58@gmail.com     7-1-17   \n",
      "1001        Tom   Webster    male        TW3857@gmail.com     7-1-17   \n",
      "1002     Edward     Bowen    male  Edward.Bowen@gmail.com     7-1-17   \n",
      "1003     Marcus     Bauer    male  Marcus.Bauer@gmail.com     7-1-17   \n",
      "1004    Roberta      Best  female      RB6305@hotmail.com     7-1-17   \n",
      "\n",
      "     fitness_test_date application_date purchase_date visit_date_conv  \\\n",
      "1000        2017-07-03             None          None      2017-07-01   \n",
      "1001        2017-07-02             None          None      2017-07-01   \n",
      "1002              None       2017-07-04    2017-07-04      2017-07-01   \n",
      "1003        2017-07-01       2017-07-03    2017-07-05      2017-07-01   \n",
      "1004        2017-07-02             None          None      2017-07-01   \n",
      "\n",
      "     ab_test_group  is_application   is_member  \n",
      "1000             A  No Application  Not Member  \n",
      "1001             A  No Application  Not Member  \n",
      "1002             B     Application      Member  \n",
      "1003             A     Application      Member  \n",
      "1004             A  No Application  Not Member  \n"
     ]
    }
   ],
   "source": [
    "df['is_member'] = df.apply((lambda row: \"Member\" if row.purchase_date != None else \"Not Member\"), axis=1)\n",
    "print(df.head())"
   ]
  },
  {
   "cell_type": "markdown",
   "metadata": {},
   "source": [
    "Now, we'll create a DataFrame called `just_apps` that contains only people who picked up an application."
   ]
  },
  {
   "cell_type": "code",
   "execution_count": 68,
   "metadata": {},
   "outputs": [
    {
     "name": "stdout",
     "output_type": "stream",
     "text": [
      "   index first_name last_name  gender                    email visit_date  \\\n",
      "0   1002     Edward     Bowen    male   Edward.Bowen@gmail.com     7-1-17   \n",
      "1   1003     Marcus     Bauer    male   Marcus.Bauer@gmail.com     7-1-17   \n",
      "2   1009   Salvador  Cardenas    male  SCardenas1980@gmail.com     7-1-17   \n",
      "3   1011    Valerie     Munoz  female     VMunoz1998@gmail.com     7-1-17   \n",
      "4   1035    Michael     Burks    male         MB9820@gmail.com     7-1-17   \n",
      "\n",
      "  fitness_test_date application_date purchase_date visit_date_conv  \\\n",
      "0              None       2017-07-04    2017-07-04      2017-07-01   \n",
      "1        2017-07-01       2017-07-03    2017-07-05      2017-07-01   \n",
      "2        2017-07-07       2017-07-06          None      2017-07-01   \n",
      "3        2017-07-03       2017-07-05    2017-07-06      2017-07-01   \n",
      "4              None       2017-07-07    2017-07-13      2017-07-01   \n",
      "\n",
      "  ab_test_group is_application   is_member  \n",
      "0             B    Application      Member  \n",
      "1             A    Application      Member  \n",
      "2             A    Application  Not Member  \n",
      "3             A    Application      Member  \n",
      "4             B    Application      Member  \n"
     ]
    }
   ],
   "source": [
    "just_apps = df[df.is_application == 'Application'].reset_index()\n",
    "print(just_apps.head())"
   ]
  },
  {
   "cell_type": "markdown",
   "metadata": {},
   "source": [
    "Now, we'll do a `groupby` to find out how many people in `just_apps` are and aren't members from each group following the same process that we did in Step 4, including pivoting the data."
   ]
  },
  {
   "cell_type": "code",
   "execution_count": 69,
   "metadata": {},
   "outputs": [
    {
     "name": "stdout",
     "output_type": "stream",
     "text": [
      "is_member ab_test_group  Member  Not Member  total  Percent Purchase\n",
      "0                     A     200          50    250         80.000000\n",
      "1                     B     250          75    325         76.923077\n"
     ]
    }
   ],
   "source": [
    "# Create new DF with grouping by is_member and ab_test_group\n",
    "apps_grouped = just_apps.groupby(['is_member', 'ab_test_group']).email.count().reset_index()\n",
    "\n",
    "# Create pivot with is_member columns, ab_test_group index and unique users as values\n",
    "member_pivot = apps_grouped.pivot(columns='is_member', index='ab_test_group', values='email').reset_index()\n",
    "\n",
    "# add totals to pivot table\n",
    "member_pivot['total'] = member_pivot['Member']+member_pivot['Not Member']\n",
    "\n",
    "# add percent purchase column\n",
    "member_pivot['Percent Purchase'] = 100 * member_pivot['Member']/member_pivot['total']\n",
    "\n",
    "print(member_pivot)"
   ]
  },
  {
   "cell_type": "markdown",
   "metadata": {},
   "source": [
    "It looks like people who took the fitness test were more likely to purchase a membership **if** they picked up an application.\n",
    "\n",
    "Just like before, we need to know if this difference is statistically significant."
   ]
  },
  {
   "cell_type": "code",
   "execution_count": 72,
   "metadata": {},
   "outputs": [
    {
     "name": "stdout",
     "output_type": "stream",
     "text": [
      "P-value is 0.540205286264\n",
      "\n",
      "As this p-value is > 0.05 we can accept the zero hypothesis \n",
      "and state that there is no significant difference in the\n",
      "percentage of users who filed an application in the two tests\n"
     ]
    }
   ],
   "source": [
    "\"\"\"\n",
    "We let the zero-hypothesis state that there is no significant difference in the % of \n",
    "users who purchased a membership.\n",
    "\n",
    "A chi-squared will be applicable, as we are testing the significance of\n",
    "differences in categorical values of a 'full' population.\n",
    "\n",
    "We set the significance level at 95 %\n",
    "\n",
    "\"\"\"\n",
    "\n",
    "# Contingency table\n",
    "# Test      Total |  Purchase\n",
    "# --------------------------\n",
    "# A        | 250    |  50\n",
    "# B        | 325    |  75\n",
    "\n",
    "test_values_purchase = [[250, 50],[325,75]]\n",
    "\n",
    "chi2_purchase,pval_purchase,dof_purchase,expected_purchase = chi2_contingency(test_values_purchase)\n",
    "\n",
    "print(\"P-value is \" +str(pval_purchase)) \n",
    "\n",
    "print(\"\"\"\n",
    "As this p-value is > 0.05 we can accept the zero hypothesis \n",
    "and state that there is no significant difference in the\n",
    "percentage of users who filed an application in the two tests\"\"\")"
   ]
  },
  {
   "cell_type": "markdown",
   "metadata": {},
   "source": [
    "Previously, we looked at what percent of people **who picked up applications** purchased memberships.  What we want to know is what percentage of **all visitors** purchased memberships."
   ]
  },
  {
   "cell_type": "code",
   "execution_count": 73,
   "metadata": {},
   "outputs": [
    {
     "name": "stdout",
     "output_type": "stream",
     "text": [
      "is_member ab_test_group  Member  Not Member  Total  Percent Purchase\n",
      "0                     A     200        2309   2509          7.971303\n",
      "1                     B     250        2247   2497         10.012014\n"
     ]
    }
   ],
   "source": [
    "# creating new DF grouping by test group and member status\n",
    "final_member = df.groupby(['ab_test_group', 'is_member']).email.count().reset_index()\n",
    "# renaming the 'email' column\n",
    "final_member.rename(columns={\"email\":\"users\"}, inplace=True)\n",
    "\n",
    "# Creating Pivot DataFrame\n",
    "final_member_pivot = final_member.pivot(columns='is_member', index='ab_test_group', values='users').reset_index()\n",
    "\n",
    "# Adding 'totals' column\n",
    "final_member_pivot['Total'] = final_member_pivot['Member'] + final_member_pivot['Not Member']\n",
    "\n",
    "# Adding 'Percent Purchase' column\n",
    "final_member_pivot['Percent Purchase'] = 100 * final_member_pivot['Member']/final_member_pivot['Total']\n",
    "\n",
    "print(final_member_pivot)"
   ]
  },
  {
   "cell_type": "markdown",
   "metadata": {},
   "source": [
    "Previously, when we only considered people who had **already picked up an application**, we saw that there was no significant difference in membership between Group A and Group B.\n",
    "\n",
    "Now, when we consider all people who **visit MuscleHub**, we see that there might be a significant different in memberships between Group A and Group B."
   ]
  },
  {
   "cell_type": "code",
   "execution_count": 75,
   "metadata": {},
   "outputs": [
    {
     "name": "stdout",
     "output_type": "stream",
     "text": [
      "P-value is 0.0239906124653\n",
      "\n",
      "As this p-value is < 0.05 we can reject the zero hypothesis\n",
      "and state that there is a significant difference between\n",
      "the two tests in the percentage of users who ended up purchasing a membership.\n",
      "\n"
     ]
    }
   ],
   "source": [
    "# As with previous tests, the chi-squared test will be applied.\n",
    "# We set the significance level at 95 %\n",
    "\n",
    "# Contingency table\n",
    "# Test      Total  |  Purchase\n",
    "# --------------------------\n",
    "# A      | 2509    |  200\n",
    "# B      | 2497    |  250\n",
    "\n",
    "test_values_total = [[2509, 200],[2497,250]]\n",
    "\n",
    "chi2_total,pval_total,dof_total,expected_total = chi2_contingency(test_values_total)\n",
    "\n",
    "print(\"P-value is \" +str(pval_total)) # = 0.024\n",
    "\n",
    "\n",
    "print(\"\"\"\n",
    "As this p-value is < 0.05 we can reject the zero hypothesis\n",
    "and state that there is a significant difference between\n",
    "the two tests in the percentage of users who ended up purchasing a membership.\n",
    "\"\"\")"
   ]
  },
  {
   "cell_type": "markdown",
   "metadata": {},
   "source": [
    "## Step 6: Summarize the acquisition funnel with a chart"
   ]
  },
  {
   "cell_type": "markdown",
   "metadata": {},
   "source": [
    "We'll make a bar chart for Janet that shows the difference between Group A (people who were given the fitness test) and Group B (people who were not given the fitness test) at each state of the process:\n",
    "- Percent of visitors who apply\n",
    "- Percent of applicants who purchase a membership\n",
    "- Percent of visitors who purchase a membership"
   ]
  },
  {
   "cell_type": "code",
   "execution_count": 78,
   "metadata": {},
   "outputs": [
    {
     "data": {
      "image/png": "[encoded data removed]",
      "text/plain": [
       "<matplotlib.figure.Figure at 0x11cf9b89b00>"
      ]
     },
     "metadata": {},
     "output_type": "display_data"
    }
   ],
   "source": [
    "# Percent of visitors who apply\n",
    "\n",
    "plt.figure(figsize=(12,8))\n",
    "ax = plt.subplot()\n",
    "data_app = app_pivot['Percent with Application'].values\n",
    "plt.bar(range(len(data_app)), data_app)\n",
    "ax.set_xticks(range(len(data_app)))\n",
    "ax.set_xticklabels(['Fitness Test', 'No Fitness Test'])\n",
    "\n",
    "# Add percentage sign to y-ticks\n",
    "y_vals = ax.get_yticks()\n",
    "ax.set_yticklabels([str(i) + ' %' for i in y_vals])\n",
    "\n",
    "# Add title and data labels to each bar\n",
    "plt.title('Percentage of visitors who filled in application')\n",
    "ax.text(0, data_app[0]-0.75, str(round(data_app[0], 1)) + ' %', ha='center')\n",
    "ax.text(1, data_app[1]-0.75, str(round(data_app[1], 1)) + ' %', ha='center')\n",
    "\n",
    "plt.savefig('applicants.png')\n",
    "\n",
    "plt.show()\n"
   ]
  },
  {
   "cell_type": "code",
   "execution_count": 81,
   "metadata": {},
   "outputs": [
    {
     "data": {
      "image/png": "[encoded data removed]",
      "text/plain": [
       "<matplotlib.figure.Figure at 0x11cf9b0e6a0>"
      ]
     },
     "metadata": {},
     "output_type": "display_data"
    }
   ],
   "source": [
    "# Percent of applicants who purchase a membership\n",
    "\n",
    "plt.figure(figsize=(12,8))\n",
    "ax = plt.subplot()\n",
    "data_purchase = member_pivot['Percent Purchase'].values\n",
    "plt.bar(range(len(data_purchase)), data_purchase, color='orange')\n",
    "ax.set_xticks(range(len(data_purchase)))\n",
    "ax.set_xticklabels(['Fitness Test', 'No Fitness Test'])\n",
    "\n",
    "plt.ylim(60,85)\n",
    "\n",
    "# Add percentage sign to y-ticks\n",
    "y_vals = ax.get_yticks()\n",
    "ax.set_yticklabels([str(i)+ ' %' for i in y_vals])\n",
    "\n",
    "# Add title and data labels to each bar\n",
    "plt.title('Percentage of applicants who purchased membership')\n",
    "ax.text(0, data_purchase[0]-1, str(round(data_purchase[0], 1)) + ' %', ha='center')\n",
    "ax.text(1, data_purchase[1]-1, str(round(data_purchase[1], 1)) + ' %', ha='center')\n",
    "\n",
    "plt.savefig('applicants-purchase.png')\n",
    "\n",
    "plt.show()\n"
   ]
  },
  {
   "cell_type": "code",
   "execution_count": 82,
   "metadata": {},
   "outputs": [
    {
     "data": {
      "image/png": "[encoded data removed]",
      "text/plain": [
       "<matplotlib.figure.Figure at 0x11cf9ae0b70>"
      ]
     },
     "metadata": {},
     "output_type": "display_data"
    }
   ],
   "source": [
    "# Percent of visitors who purchase a membership\n",
    "\n",
    "plt.figure(figsize=(12,8))\n",
    "ax = plt.subplot()\n",
    "data_all = final_member_pivot['Percent Purchase'].values\n",
    "plt.bar(range(len(data_all)), data_all, color='green')\n",
    "ax.set_xticks(range(len(data_all)))\n",
    "ax.set_xticklabels(['Fitness Test', 'No Fitness Test'])\n",
    "\n",
    "# Add percentage sign to y-ticks\n",
    "y_vals = ax.get_yticks()\n",
    "ax.set_yticklabels([str(i)+ ' %' for i in y_vals])\n",
    "\n",
    "# Add title and data labels to each bar\n",
    "plt.title('Percentage of visitors who purchased membership')\n",
    "ax.text(0, data_all[0]-0.5, str(round(data_all[0], 1)) + ' %', ha='center')\n",
    "ax.text(1, data_all[1]-0.5, str(round(data_all[1], 1)) + ' %', ha='center')\n",
    "\n",
    "plt.savefig('visitor-purchase.png')\n",
    "\n",
    "plt.show()"
   ]
  }
 ],
 "metadata": {
  "kernelspec": {
   "display_name": "Python 3",
   "language": "python",
   "name": "python3"
  },
  "language_info": {
   "codemirror_mode": {
    "name": "ipython",
    "version": 3
   },
   "file_extension": ".py",
   "mimetype": "text/x-python",
   "name": "python",
   "nbconvert_exporter": "python",
   "pygments_lexer": "ipython3",
   "version": "3.6.2"
  }
 },
 "nbformat": 4,
 "nbformat_minor": 2
}
